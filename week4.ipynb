{
 "cells": [
  {
   "attachments": {},
   "cell_type": "markdown",
   "metadata": {},
   "source": [
    "# My Jupyter Notebook on IBM Watson Studio"
   ]
  },
  {
   "attachments": {},
   "cell_type": "markdown",
   "metadata": {},
   "source": [
    "**Daniel Torres Jr.** \n",
    "\n",
    "I desire to become knowledgeable in the art of Data Science.\n"
   ]
  },
  {
   "attachments": {},
   "cell_type": "markdown",
   "metadata": {},
   "source": [
    "_I am interested in Data Science because I believe it will make Machine Learning easier for me._"
   ]
  },
  {
   "attachments": {},
   "cell_type": "markdown",
   "metadata": {},
   "source": [
    "### A list using listcomp vs A list using a map/filter composion"
   ]
  },
  {
   "cell_type": "code",
   "execution_count": 9,
   "metadata": {},
   "outputs": [
    {
     "name": "stdout",
     "output_type": "stream",
     "text": [
      "list comp:  0.005 0.005 0.006 0.005 0.006\n",
      "filter + lambda:  0.008 0.008 0.008 0.008 0.008\n"
     ]
    }
   ],
   "source": [
    "import timeit\n",
    "\n",
    "TIMES = 10000\n",
    "SETUP = \"\"\"\n",
    "symbols = '$¢£¥€¤'\n",
    "def non_ascii(c):\n",
    "    return c > 127\n",
    "\"\"\"\n",
    "\n",
    "def clock(label, cmd):\n",
    "    res = timeit.repeat(cmd, setup=SETUP, number=TIMES)\n",
    "    print(label, *(f'{x:.3f}' for x in res))\n",
    "\n",
    "clock('list comp: ', '[ord(s) for s in symbols if ord(s) > 127]')\n",
    "clock('filter + lambda: ', 'list(filter(lambda c: c > 127, map (ord, symbols)))')"
   ]
  },
  {
   "attachments": {},
   "cell_type": "markdown",
   "metadata": {},
   "source": [
    "1)\n",
    "2)\n",
    "3)\n",
    "-\n",
    "-\n",
    "-\n",
    "*\n",
    "*\n",
    "*\n",
    "+\n",
    "+\n",
    "+\n",
    "[Google link](https://www.google.com)\n",
    "\n",
    "[Google link](https://www.google.com \"Google's Homepage\")\n",
    "\n",
    "[YouTube link](https://www.youtube.com)"
   ]
  },
  {
   "cell_type": "markdown",
   "metadata": {},
   "source": []
  }
 ],
 "metadata": {
  "kernelspec": {
   "display_name": "Python 3",
   "language": "python",
   "name": "python3"
  },
  "language_info": {
   "codemirror_mode": {
    "name": "ipython",
    "version": 3
   },
   "file_extension": ".py",
   "mimetype": "text/x-python",
   "name": "python",
   "nbconvert_exporter": "python",
   "pygments_lexer": "ipython3",
   "version": "3.10.7"
  },
  "orig_nbformat": 4,
  "vscode": {
   "interpreter": {
    "hash": "281f1579575c4e2f7383e53b3292f24e345113eeebacec4b636b74db6e174f6f"
   }
  }
 },
 "nbformat": 4,
 "nbformat_minor": 2
}
